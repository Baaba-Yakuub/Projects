{
 "cells": [
  {
   "cell_type": "markdown",
   "metadata": {
    "colab_type": "text",
    "id": "0MRC0e0KhQ0S"
   },
   "source": [
    "# Predicting Breast Cancer Class Using Support Vector Classification"
   ]
  },
  {
   "cell_type": "markdown",
   "metadata": {
    "colab_type": "text",
    "id": "LWd1UlMnhT2s"
   },
   "source": [
    "## Importing the libraries"
   ]
  },
  {
   "cell_type": "code",
   "execution_count": 249,
   "metadata": {
    "colab": {},
    "colab_type": "code",
    "id": "YvGPUQaHhXfL"
   },
   "outputs": [],
   "source": [
    "import numpy as np\n",
    "import matplotlib.pyplot as plt\n",
    "import pandas as pd"
   ]
  },
  {
   "cell_type": "markdown",
   "metadata": {
    "colab_type": "text",
    "id": "K1VMqkGvhc3-"
   },
   "source": [
    "## Importing the dataset"
   ]
  },
  {
   "cell_type": "code",
   "execution_count": 250,
   "metadata": {
    "colab": {},
    "colab_type": "code",
    "id": "M52QDmyzhh9s"
   },
   "outputs": [],
   "source": [
    "dataset = pd.read_csv('breast-cancer.data')\n",
    "X = dataset.iloc[:, 1:].values\n",
    "y = dataset.iloc[:, 0].values"
   ]
  },
  {
   "cell_type": "markdown",
   "metadata": {},
   "source": [
    "## Filling in Missing Values"
   ]
  },
  {
   "cell_type": "code",
   "execution_count": 251,
   "metadata": {},
   "outputs": [],
   "source": [
    "from sklearn.impute import SimpleImputer\n",
    "imputer1 = SimpleImputer(missing_values=\"?\", strategy = \"most_frequent\")\n",
    "X_new1 = X[:, -5].reshape(-1, 1)\n",
    "imputer1.fit(X_new1)\n",
    "X_new1 = imputer1.transform(X_new1)\n",
    "\n",
    "imputer2 = SimpleImputer(missing_values=\"?\", strategy = \"most_frequent\")\n",
    "X_new2 = X[:, -2].reshape(-1, 1)\n",
    "imputer1.fit(X_new2)\n",
    "X_new2 = imputer1.transform(X_new2)\n"
   ]
  },
  {
   "cell_type": "code",
   "execution_count": 252,
   "metadata": {
    "scrolled": true
   },
   "outputs": [
    {
     "data": {
      "text/plain": [
       "array(['right_up', 'left_low', 'left_up', 'right_low', 'left_low',\n",
       "       'left_low', 'left_low', 'left_low', 'left_up', 'central',\n",
       "       'left_low', 'right_up', 'right_up', 'left_up', 'left_low',\n",
       "       'left_low', 'left_low', 'left_low', 'right_up', 'left_low',\n",
       "       'left_low', 'left_low', 'left_up', 'left_up', 'left_up',\n",
       "       'left_low', 'left_up', 'left_low', 'left_low', 'left_up',\n",
       "       'left_low', 'left_low', 'left_up', 'left_up', 'left_up', 'central',\n",
       "       'central', 'left_low', 'left_low', 'left_low', 'left_low',\n",
       "       'central', 'left_up', 'right_up', 'left_up', 'left_low', 'left_up',\n",
       "       'right_up', 'left_low', 'left_low', 'right_low', 'left_low',\n",
       "       'left_up', 'left_up', 'right_up', 'central', 'right_up', 'left_up',\n",
       "       'left_up', 'central', 'right_low', 'left_low', 'right_up',\n",
       "       'right_low', 'left_up', 'right_low', 'left_up', 'left_low',\n",
       "       'left_low', 'left_low', 'left_up', 'left_up', 'right_low',\n",
       "       'right_low', 'left_low', 'left_low', 'central', 'left_low',\n",
       "       'central', 'left_low', 'left_up', 'left_low', 'left_low',\n",
       "       'right_low', 'left_up', 'left_low', 'right_low', 'left_up',\n",
       "       'left_up', 'central', 'left_up', 'left_up', 'left_up', 'left_low',\n",
       "       'right_low', 'left_up', 'left_up', 'right_up', 'left_low',\n",
       "       'left_low', 'left_low', 'right_low', 'right_low', 'left_low',\n",
       "       'left_up', 'left_up', 'right_up', 'right_up', 'left_up',\n",
       "       'left_low', 'central', 'left_up', 'left_up', 'right_up', 'left_up',\n",
       "       'left_low', 'left_up', 'left_low', 'right_low', 'left_low',\n",
       "       'right_up', 'left_up', 'left_low', 'left_low', 'central',\n",
       "       'right_up', 'left_up', 'left_up', 'left_up', 'right_up', 'left_up',\n",
       "       'left_up', 'right_up', 'left_low', 'central', 'right_up',\n",
       "       'left_low', 'left_low', 'right_low', 'left_low', 'left_low',\n",
       "       'left_up', 'left_low', 'central', 'right_low', 'left_up',\n",
       "       'left_low', 'central', 'left_up', 'left_up', 'left_low',\n",
       "       'left_low', 'left_up', 'left_up', 'left_up', 'left_up', 'central',\n",
       "       'central', 'left_low', 'left_up', 'left_low', 'left_up', 'left_up',\n",
       "       'left_low', 'left_up', 'left_low', 'left_up', 'left_up', 'left_up',\n",
       "       'left_up', 'left_low', 'right_up', 'left_up', 'left_low',\n",
       "       'right_up', 'left_low', 'left_low', 'left_up', 'left_low',\n",
       "       'left_up', 'left_low', 'left_low', 'left_up', 'left_low',\n",
       "       'left_low', 'right_low', 'left_up', 'left_up', 'left_up',\n",
       "       'right_low', 'left_up', 'left_low', 'right_low', 'left_up',\n",
       "       'left_up', 'left_up', 'left_low', 'central', 'left_low',\n",
       "       'left_low', 'left_low', 'left_low', 'left_low', 'right_up',\n",
       "       'central', '?', 'right_up', 'right_up', 'left_up', 'left_low',\n",
       "       'central', 'right_up', 'left_up', 'left_low', 'left_up', 'left_up',\n",
       "       'left_up', 'central', 'left_low', 'right_up', 'left_up',\n",
       "       'right_low', 'left_low', 'left_low', 'left_low', 'left_low',\n",
       "       'left_up', 'left_low', 'right_up', 'left_up', 'left_up', 'left_up',\n",
       "       'left_low', 'left_up', 'left_low', 'left_low', 'left_low',\n",
       "       'left_low', 'right_up', 'left_low', 'left_low', 'left_low',\n",
       "       'right_up', 'left_up', 'left_up', 'left_low', 'right_low',\n",
       "       'left_low', 'left_low', 'left_up', 'left_low', 'left_up',\n",
       "       'left_up', 'right_up', 'left_up', 'left_low', 'left_low',\n",
       "       'right_low', 'left_up', 'right_up', 'right_low', 'left_up',\n",
       "       'left_up', 'left_low', 'left_low', 'right_up', 'left_low',\n",
       "       'left_low', 'left_low', 'right_low', 'left_low', 'left_up',\n",
       "       'right_up', 'central', 'left_up', 'right_low', 'left_up',\n",
       "       'right_up', 'left_low', 'left_low', 'left_up', 'left_up',\n",
       "       'left_up', 'left_low', 'left_low'], dtype=object)"
      ]
     },
     "execution_count": 252,
     "metadata": {},
     "output_type": "execute_result"
    }
   ],
   "source": [
    "X[:, -2]"
   ]
  },
  {
   "cell_type": "code",
   "execution_count": 253,
   "metadata": {},
   "outputs": [
    {
     "data": {
      "text/plain": [
       "array(['no', 'no', 'no', 'no', 'no', 'no', 'no', 'no', 'no', 'no', 'no',\n",
       "       'no', 'no', 'no', 'no', 'no', 'no', 'no', 'no', 'no', 'no', 'no',\n",
       "       'no', 'no', 'no', 'no', 'no', 'no', 'no', 'no', 'no', 'no', 'no',\n",
       "       'no', 'no', 'no', 'no', 'no', 'no', 'no', 'no', 'no', 'no', 'no',\n",
       "       'no', 'no', 'no', 'no', 'no', 'no', 'no', 'no', 'no', 'no', 'no',\n",
       "       'no', 'no', 'no', 'no', 'no', 'no', 'no', 'no', 'no', 'no', 'no',\n",
       "       'no', 'no', 'no', 'no', 'no', 'no', 'no', 'no', 'no', 'no', 'no',\n",
       "       'no', 'no', 'no', 'no', 'no', 'no', 'no', 'no', 'no', 'no', 'no',\n",
       "       'no', 'no', 'no', 'no', 'no', 'no', 'no', 'no', 'no', 'no', 'no',\n",
       "       'no', 'no', 'no', 'no', 'no', 'no', 'no', 'no', 'no', 'no', 'no',\n",
       "       'no', 'no', 'no', 'no', 'no', 'no', 'no', 'no', 'no', 'no', 'no',\n",
       "       'no', 'no', 'no', 'no', 'yes', 'yes', 'yes', 'yes', 'yes', 'yes',\n",
       "       'no', 'no', 'no', 'no', 'no', 'no', 'no', 'no', 'yes', 'yes', 'no',\n",
       "       'no', 'yes', '?', 'no', 'yes', 'no', 'no', 'yes', 'yes', 'no',\n",
       "       'no', 'no', 'no', 'yes', 'no', 'no', 'no', 'no', 'yes', 'no', '?',\n",
       "       '?', 'no', 'no', 'yes', 'no', 'no', 'yes', 'no', 'yes', 'yes',\n",
       "       'yes', 'no', 'no', 'no', 'no', 'no', 'yes', 'yes', 'no', '?', '?',\n",
       "       'no', 'no', 'no', 'no', 'yes', 'no', 'no', 'yes', 'no', 'yes',\n",
       "       'no', 'no', 'no', 'yes', 'no', 'no', 'no', 'no', 'no', 'no', 'no',\n",
       "       'no', 'no', 'no', 'no', 'no', 'no', 'no', 'no', 'no', 'no', 'no',\n",
       "       'no', 'no', 'no', 'no', 'no', 'no', 'no', 'yes', 'no', 'yes', 'no',\n",
       "       'yes', 'no', 'yes', 'no', 'no', '?', 'no', 'yes', 'no', 'no', 'no',\n",
       "       'yes', 'no', 'yes', 'no', 'yes', 'yes', 'no', 'yes', 'yes', 'yes',\n",
       "       'yes', 'no', 'no', 'no', 'no', 'yes', 'yes', 'no', 'yes', 'yes',\n",
       "       'no', 'no', 'yes', 'no', '?', '?', 'yes', 'yes', 'yes', 'no', 'no',\n",
       "       'yes', 'no', 'yes', 'yes', 'yes', 'yes', 'yes', 'yes', 'yes',\n",
       "       'yes', 'yes', 'no', 'no', 'no', 'no', 'no'], dtype=object)"
      ]
     },
     "execution_count": 253,
     "metadata": {},
     "output_type": "execute_result"
    }
   ],
   "source": [
    "X[:, -5]"
   ]
  },
  {
   "cell_type": "markdown",
   "metadata": {},
   "source": [
    "## Categorical Encoding for Matrix of Features (Label Encoding)"
   ]
  },
  {
   "cell_type": "code",
   "execution_count": 254,
   "metadata": {},
   "outputs": [],
   "source": [
    "from sklearn.preprocessing import LabelEncoder\n",
    "le = LabelEncoder()\n",
    "X[:, 0] = le.fit_transform(X[:, 0])\n",
    "\n",
    "le2 = LabelEncoder()\n",
    "X[:, 1] = le2.fit_transform(X[:, 1])\n",
    "\n",
    "le3 = LabelEncoder()\n",
    "X[:, 2] = le3.fit_transform(X[:, 2])\n",
    "\n",
    "le4 = LabelEncoder()\n",
    "X[:, 3] = le4.fit_transform(X[:, 3])\n",
    "\n",
    "le5 = LabelEncoder()\n",
    "X[:, -5] = le5.fit_transform(X[:, -5])\n",
    "\n",
    "le6 = LabelEncoder()\n",
    "X[:, -3] = le4.fit_transform(X[:, -3])\n",
    "\n",
    "le7 = LabelEncoder()\n",
    "X[:, -1] = le7.fit_transform(X[:, -1])\n",
    "\n"
   ]
  },
  {
   "cell_type": "markdown",
   "metadata": {},
   "source": [
    "## Categorical Encoding for Matrix of Features (OneHot Encoding)"
   ]
  },
  {
   "cell_type": "code",
   "execution_count": 255,
   "metadata": {},
   "outputs": [],
   "source": [
    "from sklearn.compose import ColumnTransformer\n",
    "from sklearn.preprocessing import OneHotEncoder\n",
    "ct = ColumnTransformer(transformers=[('encoder1', OneHotEncoder(), [-2])], \n",
    "                                     remainder = \"passthrough\")\n",
    "X = np.array(ct.fit_transform(X))"
   ]
  },
  {
   "cell_type": "markdown",
   "metadata": {
    "colab_type": "text",
    "id": "YvxIPVyMhmKp"
   },
   "source": [
    "## Splitting the dataset into the Training set and Test set"
   ]
  },
  {
   "cell_type": "code",
   "execution_count": 256,
   "metadata": {
    "colab": {},
    "colab_type": "code",
    "id": "AVzJWAXIhxoC"
   },
   "outputs": [],
   "source": [
    "from sklearn.model_selection import train_test_split\n",
    "X_train, X_test, y_train, y_test = train_test_split(X, y, test_size = 0.25, random_state = 0)"
   ]
  },
  {
   "cell_type": "code",
   "execution_count": 257,
   "metadata": {
    "scrolled": true
   },
   "outputs": [
    {
     "name": "stdout",
     "output_type": "stream",
     "text": [
      "[[0.0 0.0 1.0 ... 2 1 1]\n",
      " [0.0 0.0 0.0 ... 2 0 1]\n",
      " [0.0 0.0 0.0 ... 2 0 0]\n",
      " ...\n",
      " [0.0 0.0 1.0 ... 1 1 0]\n",
      " [0.0 0.0 0.0 ... 1 1 0]\n",
      " [0.0 0.0 0.0 ... 2 1 0]]\n"
     ]
    }
   ],
   "source": [
    "print(X_train)"
   ]
  },
  {
   "cell_type": "code",
   "execution_count": 258,
   "metadata": {},
   "outputs": [
    {
     "name": "stdout",
     "output_type": "stream",
     "text": [
      "[[0.0 1.0 0.0 ... 1 1 0]\n",
      " [0.0 0.0 1.0 ... 1 1 1]\n",
      " [0.0 0.0 0.0 ... 2 1 0]\n",
      " ...\n",
      " [0.0 0.0 0.0 ... 3 1 0]\n",
      " [0.0 0.0 0.0 ... 2 1 1]\n",
      " [0.0 0.0 0.0 ... 3 0 0]]\n"
     ]
    }
   ],
   "source": [
    "print(X_test)"
   ]
  },
  {
   "cell_type": "code",
   "execution_count": 259,
   "metadata": {},
   "outputs": [
    {
     "name": "stdout",
     "output_type": "stream",
     "text": [
      "['recurrence-events' 'no-recurrence-events' 'recurrence-events'\n",
      " 'recurrence-events' 'no-recurrence-events' 'recurrence-events'\n",
      " 'no-recurrence-events' 'no-recurrence-events' 'recurrence-events'\n",
      " 'no-recurrence-events' 'no-recurrence-events' 'recurrence-events'\n",
      " 'no-recurrence-events' 'no-recurrence-events' 'no-recurrence-events'\n",
      " 'no-recurrence-events' 'recurrence-events' 'recurrence-events'\n",
      " 'recurrence-events' 'no-recurrence-events' 'recurrence-events'\n",
      " 'recurrence-events' 'recurrence-events' 'recurrence-events'\n",
      " 'no-recurrence-events' 'no-recurrence-events' 'no-recurrence-events'\n",
      " 'no-recurrence-events' 'no-recurrence-events' 'no-recurrence-events'\n",
      " 'recurrence-events' 'no-recurrence-events' 'no-recurrence-events'\n",
      " 'no-recurrence-events' 'no-recurrence-events' 'no-recurrence-events'\n",
      " 'no-recurrence-events' 'no-recurrence-events' 'no-recurrence-events'\n",
      " 'no-recurrence-events' 'recurrence-events' 'no-recurrence-events'\n",
      " 'no-recurrence-events' 'no-recurrence-events' 'no-recurrence-events'\n",
      " 'no-recurrence-events' 'no-recurrence-events' 'no-recurrence-events'\n",
      " 'no-recurrence-events' 'no-recurrence-events' 'recurrence-events'\n",
      " 'no-recurrence-events' 'no-recurrence-events' 'no-recurrence-events'\n",
      " 'no-recurrence-events' 'recurrence-events' 'recurrence-events'\n",
      " 'no-recurrence-events' 'no-recurrence-events' 'no-recurrence-events'\n",
      " 'no-recurrence-events' 'recurrence-events' 'no-recurrence-events'\n",
      " 'no-recurrence-events' 'no-recurrence-events' 'no-recurrence-events'\n",
      " 'no-recurrence-events' 'no-recurrence-events' 'recurrence-events'\n",
      " 'no-recurrence-events' 'no-recurrence-events' 'recurrence-events'\n",
      " 'recurrence-events' 'recurrence-events' 'no-recurrence-events'\n",
      " 'no-recurrence-events' 'no-recurrence-events' 'recurrence-events'\n",
      " 'no-recurrence-events' 'no-recurrence-events' 'no-recurrence-events'\n",
      " 'no-recurrence-events' 'no-recurrence-events' 'no-recurrence-events'\n",
      " 'no-recurrence-events' 'no-recurrence-events' 'no-recurrence-events'\n",
      " 'no-recurrence-events' 'no-recurrence-events' 'recurrence-events'\n",
      " 'no-recurrence-events' 'no-recurrence-events' 'recurrence-events'\n",
      " 'recurrence-events' 'no-recurrence-events' 'recurrence-events'\n",
      " 'no-recurrence-events' 'no-recurrence-events' 'recurrence-events'\n",
      " 'no-recurrence-events' 'recurrence-events' 'recurrence-events'\n",
      " 'no-recurrence-events' 'no-recurrence-events' 'recurrence-events'\n",
      " 'no-recurrence-events' 'recurrence-events' 'no-recurrence-events'\n",
      " 'recurrence-events' 'no-recurrence-events' 'no-recurrence-events'\n",
      " 'no-recurrence-events' 'no-recurrence-events' 'no-recurrence-events'\n",
      " 'no-recurrence-events' 'no-recurrence-events' 'recurrence-events'\n",
      " 'recurrence-events' 'no-recurrence-events' 'no-recurrence-events'\n",
      " 'no-recurrence-events' 'no-recurrence-events' 'recurrence-events'\n",
      " 'no-recurrence-events' 'no-recurrence-events' 'recurrence-events'\n",
      " 'no-recurrence-events' 'no-recurrence-events' 'no-recurrence-events'\n",
      " 'no-recurrence-events' 'no-recurrence-events' 'no-recurrence-events'\n",
      " 'recurrence-events' 'recurrence-events' 'no-recurrence-events'\n",
      " 'no-recurrence-events' 'no-recurrence-events' 'recurrence-events'\n",
      " 'no-recurrence-events' 'no-recurrence-events' 'no-recurrence-events'\n",
      " 'no-recurrence-events' 'recurrence-events' 'recurrence-events'\n",
      " 'no-recurrence-events' 'recurrence-events' 'no-recurrence-events'\n",
      " 'no-recurrence-events' 'recurrence-events' 'no-recurrence-events'\n",
      " 'no-recurrence-events' 'no-recurrence-events' 'no-recurrence-events'\n",
      " 'no-recurrence-events' 'no-recurrence-events' 'no-recurrence-events'\n",
      " 'no-recurrence-events' 'no-recurrence-events' 'recurrence-events'\n",
      " 'no-recurrence-events' 'no-recurrence-events' 'no-recurrence-events'\n",
      " 'no-recurrence-events' 'no-recurrence-events' 'no-recurrence-events'\n",
      " 'recurrence-events' 'no-recurrence-events' 'no-recurrence-events'\n",
      " 'no-recurrence-events' 'no-recurrence-events' 'recurrence-events'\n",
      " 'no-recurrence-events' 'no-recurrence-events' 'no-recurrence-events'\n",
      " 'no-recurrence-events' 'no-recurrence-events' 'recurrence-events'\n",
      " 'no-recurrence-events' 'no-recurrence-events' 'recurrence-events'\n",
      " 'recurrence-events' 'no-recurrence-events' 'no-recurrence-events'\n",
      " 'no-recurrence-events' 'no-recurrence-events' 'recurrence-events'\n",
      " 'no-recurrence-events' 'recurrence-events' 'no-recurrence-events'\n",
      " 'no-recurrence-events' 'no-recurrence-events' 'recurrence-events'\n",
      " 'no-recurrence-events' 'no-recurrence-events' 'no-recurrence-events'\n",
      " 'no-recurrence-events' 'recurrence-events' 'no-recurrence-events'\n",
      " 'recurrence-events' 'no-recurrence-events' 'no-recurrence-events'\n",
      " 'no-recurrence-events' 'no-recurrence-events' 'no-recurrence-events'\n",
      " 'recurrence-events' 'recurrence-events' 'no-recurrence-events'\n",
      " 'no-recurrence-events' 'recurrence-events' 'no-recurrence-events'\n",
      " 'no-recurrence-events' 'no-recurrence-events' 'no-recurrence-events']\n"
     ]
    }
   ],
   "source": [
    "print(y_train)"
   ]
  },
  {
   "cell_type": "code",
   "execution_count": 260,
   "metadata": {},
   "outputs": [
    {
     "name": "stdout",
     "output_type": "stream",
     "text": [
      "['no-recurrence-events' 'no-recurrence-events' 'no-recurrence-events'\n",
      " 'recurrence-events' 'no-recurrence-events' 'no-recurrence-events'\n",
      " 'no-recurrence-events' 'recurrence-events' 'no-recurrence-events'\n",
      " 'no-recurrence-events' 'recurrence-events' 'no-recurrence-events'\n",
      " 'no-recurrence-events' 'no-recurrence-events' 'no-recurrence-events'\n",
      " 'no-recurrence-events' 'recurrence-events' 'no-recurrence-events'\n",
      " 'recurrence-events' 'no-recurrence-events' 'no-recurrence-events'\n",
      " 'recurrence-events' 'no-recurrence-events' 'recurrence-events'\n",
      " 'no-recurrence-events' 'no-recurrence-events' 'recurrence-events'\n",
      " 'recurrence-events' 'no-recurrence-events' 'recurrence-events'\n",
      " 'recurrence-events' 'no-recurrence-events' 'no-recurrence-events'\n",
      " 'recurrence-events' 'no-recurrence-events' 'recurrence-events'\n",
      " 'no-recurrence-events' 'no-recurrence-events' 'no-recurrence-events'\n",
      " 'no-recurrence-events' 'no-recurrence-events' 'no-recurrence-events'\n",
      " 'no-recurrence-events' 'recurrence-events' 'recurrence-events'\n",
      " 'no-recurrence-events' 'no-recurrence-events' 'recurrence-events'\n",
      " 'no-recurrence-events' 'recurrence-events' 'no-recurrence-events'\n",
      " 'recurrence-events' 'recurrence-events' 'recurrence-events'\n",
      " 'no-recurrence-events' 'no-recurrence-events' 'recurrence-events'\n",
      " 'no-recurrence-events' 'no-recurrence-events' 'recurrence-events'\n",
      " 'recurrence-events' 'no-recurrence-events' 'recurrence-events'\n",
      " 'no-recurrence-events' 'no-recurrence-events' 'no-recurrence-events'\n",
      " 'recurrence-events' 'no-recurrence-events' 'recurrence-events'\n",
      " 'no-recurrence-events' 'no-recurrence-events' 'no-recurrence-events']\n"
     ]
    }
   ],
   "source": [
    "print(y_test)"
   ]
  },
  {
   "cell_type": "markdown",
   "metadata": {
    "colab_type": "text",
    "id": "kW3c7UYih0hT"
   },
   "source": [
    "## Feature Scaling"
   ]
  },
  {
   "cell_type": "code",
   "execution_count": 261,
   "metadata": {
    "colab": {},
    "colab_type": "code",
    "id": "9fQlDPKCh8sc"
   },
   "outputs": [],
   "source": [
    "from sklearn.preprocessing import StandardScaler\n",
    "sc = StandardScaler()\n",
    "X_train = sc.fit_transform(X_train)\n",
    "X_test = sc.transform(X_test)"
   ]
  },
  {
   "cell_type": "code",
   "execution_count": 262,
   "metadata": {},
   "outputs": [
    {
     "name": "stdout",
     "output_type": "stream",
     "text": [
      "[[ 0.         -0.27524094  1.32899728 ... -0.02523873  1.07308674\n",
      "   1.78226558]\n",
      " [ 0.         -0.27524094 -0.75244699 ... -0.02523873 -0.93189112\n",
      "   1.78226558]\n",
      " [ 0.         -0.27524094 -0.75244699 ... -0.02523873 -0.93189112\n",
      "  -0.56108361]\n",
      " ...\n",
      " [ 0.         -0.27524094  1.32899728 ... -1.36920099  1.07308674\n",
      "  -0.56108361]\n",
      " [ 0.         -0.27524094 -0.75244699 ... -1.36920099  1.07308674\n",
      "  -0.56108361]\n",
      " [ 0.         -0.27524094 -0.75244699 ... -0.02523873  1.07308674\n",
      "  -0.56108361]]\n"
     ]
    }
   ],
   "source": [
    "print(X_train)"
   ]
  },
  {
   "cell_type": "code",
   "execution_count": 263,
   "metadata": {},
   "outputs": [
    {
     "name": "stdout",
     "output_type": "stream",
     "text": [
      "[[ 0.          3.63318042 -0.75244699 ... -1.36920099  1.07308674\n",
      "  -0.56108361]\n",
      " [ 0.         -0.27524094  1.32899728 ... -1.36920099  1.07308674\n",
      "   1.78226558]\n",
      " [ 0.         -0.27524094 -0.75244699 ... -0.02523873  1.07308674\n",
      "  -0.56108361]\n",
      " ...\n",
      " [ 0.         -0.27524094 -0.75244699 ...  1.31872354  1.07308674\n",
      "  -0.56108361]\n",
      " [ 0.         -0.27524094 -0.75244699 ... -0.02523873  1.07308674\n",
      "   1.78226558]\n",
      " [ 0.         -0.27524094 -0.75244699 ...  1.31872354 -0.93189112\n",
      "  -0.56108361]]\n"
     ]
    }
   ],
   "source": [
    "print(X_test)"
   ]
  },
  {
   "cell_type": "markdown",
   "metadata": {
    "colab_type": "text",
    "id": "bb6jCOCQiAmP"
   },
   "source": [
    "## Training the SVM model on the Training set"
   ]
  },
  {
   "cell_type": "code",
   "execution_count": 264,
   "metadata": {
    "colab": {},
    "colab_type": "code",
    "id": "e0pFVAmciHQs"
   },
   "outputs": [
    {
     "data": {
      "text/plain": [
       "SVC(random_state=0)"
      ]
     },
     "execution_count": 264,
     "metadata": {},
     "output_type": "execute_result"
    }
   ],
   "source": [
    "from sklearn.svm import SVC\n",
    "classifier = SVC(C=1.0, kernel='rbf', random_state=0)\n",
    "classifier.fit(X_train, y_train)"
   ]
  },
  {
   "cell_type": "markdown",
   "metadata": {
    "colab_type": "text",
    "id": "h4Hwj34ziWQW"
   },
   "source": [
    "## Making the Confusion Matrix"
   ]
  },
  {
   "cell_type": "code",
   "execution_count": 265,
   "metadata": {
    "colab": {},
    "colab_type": "code",
    "id": "D6bpZwUiiXic"
   },
   "outputs": [
    {
     "name": "stdout",
     "output_type": "stream",
     "text": [
      "[[44  2]\n",
      " [18  8]]\n"
     ]
    },
    {
     "data": {
      "text/plain": [
       "0.7222222222222222"
      ]
     },
     "execution_count": 265,
     "metadata": {},
     "output_type": "execute_result"
    }
   ],
   "source": [
    "from sklearn.metrics import confusion_matrix, accuracy_score\n",
    "y_pred = classifier.predict(X_test)\n",
    "cm = confusion_matrix(y_test, y_pred)\n",
    "print(cm)\n",
    "accuracy_score(y_test, y_pred)"
   ]
  }
 ],
 "metadata": {
  "colab": {
   "collapsed_sections": [],
   "machine_shape": "hm",
   "name": "support_vector_machine.ipynb",
   "provenance": [],
   "toc_visible": true
  },
  "kernelspec": {
   "display_name": "Python 3 (ipykernel)",
   "language": "python",
   "name": "python3"
  },
  "language_info": {
   "codemirror_mode": {
    "name": "ipython",
    "version": 3
   },
   "file_extension": ".py",
   "mimetype": "text/x-python",
   "name": "python",
   "nbconvert_exporter": "python",
   "pygments_lexer": "ipython3",
   "version": "3.9.12"
  }
 },
 "nbformat": 4,
 "nbformat_minor": 1
}
